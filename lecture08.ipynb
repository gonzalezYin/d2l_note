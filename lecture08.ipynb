{
 "cells": [
  {
   "cell_type": "code",
   "execution_count": 2,
   "id": "ce20eb83",
   "metadata": {},
   "outputs": [],
   "source": [
    "# 从零开始实现整个方法，包括数据流水线，模型，损失函数和小批量随机梯度下降优化器。\n",
    "%matplotlib inline\n",
    "import random\n",
    "import torch\n",
    "# from d2l import torch as d2l"
   ]
  },
  {
   "cell_type": "code",
   "execution_count": 3,
   "id": "86643cf2",
   "metadata": {},
   "outputs": [],
   "source": [
    "# 根据带有噪声的线性模型构造一个人造数据集。\n",
    "def synthetic_data(w, b, num_examples):\n",
    "    X = torch.normal(0, 1, (num_examples, len(w)))\n",
    "    y = torch.matmul(X, w)+b\n",
    "    y += torch.normal(0, 0.01, y.shape)\n",
    "    return X, y.reshape((-1, 1))\n",
    "\n",
    "\n",
    "true_w = torch.tensor([2, -3.4])\n",
    "true_b = 4.2\n",
    "features, labels = synthetic_data(true_w, true_b, 1000)"
   ]
  },
  {
   "cell_type": "code",
   "execution_count": 4,
   "id": "dd9e3587",
   "metadata": {},
   "outputs": [
    {
     "name": "stdout",
     "output_type": "stream",
     "text": [
      "features: tensor([-1.0536,  0.0718]) \n",
      "label: tensor([1.8617])\n"
     ]
    }
   ],
   "source": [
    "# features中的每一行都包含一个二维数据样本\n",
    "# labels中的每一行都包含一维标签值（一个标量）\n",
    "print('features:', features[0], '\\nlabel:', labels[0])"
   ]
  },
  {
   "cell_type": "code",
   "execution_count": null,
   "id": "ee8fa86a",
   "metadata": {},
   "outputs": [],
   "source": [
    "d2l.set_figsize()\n",
    "d2l.plt.scatter(features[:, 1].detach().numpy(), labels.detach().numpy(), 1);"
   ]
  },
  {
   "cell_type": "code",
   "execution_count": 5,
   "id": "5e2b3c68",
   "metadata": {},
   "outputs": [
    {
     "name": "stdout",
     "output_type": "stream",
     "text": [
      "tensor([[ 0.7730,  0.6866],\n",
      "        [ 0.7863, -0.2135],\n",
      "        [-0.9264, -1.0832],\n",
      "        [-0.6853,  2.3659],\n",
      "        [ 0.1756,  1.7411],\n",
      "        [ 0.4607,  1.7960],\n",
      "        [-0.2603, -1.1559],\n",
      "        [ 0.3918, -1.5025],\n",
      "        [-1.6277,  0.0622],\n",
      "        [ 0.7657,  0.0128]]) \n",
      " tensor([[ 3.4031],\n",
      "        [ 6.4942],\n",
      "        [ 6.0325],\n",
      "        [-5.2160],\n",
      "        [-1.3665],\n",
      "        [-0.9777],\n",
      "        [ 7.6049],\n",
      "        [10.0996],\n",
      "        [ 0.7425],\n",
      "        [ 5.6843]])\n"
     ]
    }
   ],
   "source": [
    "# 该函数接收批量大小、特征矩阵和标签向量作为输入，生成大小为batch_size的小批量。\n",
    "def data_iter(batch_size, features, labels):\n",
    "    num_examples = len(features)\n",
    "    indices = list(range(num_examples))\n",
    "    # 这些样本是随机读取的，没有特定的顺序\n",
    "    random.shuffle(indices)\n",
    "    for i in range(0, num_examples, batch_size):\n",
    "        batch_indices = torch.tensor(indices[i:min(i+batch_size, num_examples)])\n",
    "        # python的iterator,不断地调用不断地返回，相当于每次返回一个x和y.\n",
    "        yield features[batch_indices], labels[batch_indices]\n",
    "\n",
    "batch_size = 10\n",
    "for X, y in data_iter(batch_size, features, labels):\n",
    "    print(X, '\\n', y)\n",
    "    break\n",
    "# 给我一些样本标号，每一次我随机地选取一些样本参与计算。"
   ]
  },
  {
   "cell_type": "code",
   "execution_count": 6,
   "id": "172c6da4",
   "metadata": {},
   "outputs": [],
   "source": [
    "# 定义初始化模型参数\n",
    "w = torch.normal(0, 0.01, size=(2, 1), requires_grad=True)\n",
    "b = torch.zeros(1, requires_grad=True)"
   ]
  },
  {
   "cell_type": "code",
   "execution_count": 7,
   "id": "8552ee46",
   "metadata": {},
   "outputs": [],
   "source": [
    "# 定义线性回归模型\n",
    "def linreg(X, w, b):\n",
    "    return torch.matmul(X, w)+b"
   ]
  },
  {
   "cell_type": "code",
   "execution_count": 8,
   "id": "52a759e5",
   "metadata": {},
   "outputs": [],
   "source": [
    "# 定义损失函数\n",
    "def squared_loss(y_hat, y):\n",
    "    return (y_hat - y.reshape(y_hat.shape))**2 / 2"
   ]
  },
  {
   "cell_type": "code",
   "execution_count": 9,
   "id": "e5bc77df",
   "metadata": {},
   "outputs": [],
   "source": [
    "# 定义优化算法\n",
    "# 梯度会存在.grad里面\n",
    "def sgd(params, lr, batch_size):\n",
    "    # 更新的时候不需要参与梯度计算\n",
    "    with torch.no_grad():\n",
    "        for param in params:\n",
    "            param -= lr * param.grad / batch_size\n",
    "            # pytorch不会自动地帮你把梯度设为0，所以你需要手动地设为0\n",
    "            # 这样下一次计算梯度的时候，就不会与上一次相关了\n",
    "            param.grad.zero_()"
   ]
  },
  {
   "cell_type": "code",
   "execution_count": 10,
   "id": "94813707",
   "metadata": {},
   "outputs": [
    {
     "name": "stdout",
     "output_type": "stream",
     "text": [
      "epoch 1, loss 0.043398\n",
      "epoch 2, loss 0.000174\n",
      "epoch 3, loss 0.000052\n"
     ]
    }
   ],
   "source": [
    "lr = 0.03\n",
    "# 整个数据扫三遍\n",
    "num_epochs = 3 \n",
    "net = linreg\n",
    "loss = squared_loss\n",
    "\n",
    "# 每一次对数据扫一遍\n",
    "for epoch in range(num_epochs):\n",
    "    # 每一次拿出批量大小的X,y\n",
    "    for X, y in data_iter(batch_size, features, labels):\n",
    "        l = loss(net(X, w, b), y) # X和y的小批量损失 （batch_size, l）\n",
    "        l.sum().backward()\n",
    "        # 使用参数的梯度更新参数\n",
    "        sgd([w, b], lr, batch_size)\n",
    "    with torch.no_grad():\n",
    "        train_l = loss(net(features, w, b), labels)\n",
    "        print(f'epoch {epoch+1}, loss {float(train_l.mean()):f}')"
   ]
  },
  {
   "cell_type": "code",
   "execution_count": 11,
   "id": "869cc294",
   "metadata": {},
   "outputs": [
    {
     "name": "stdout",
     "output_type": "stream",
     "text": [
      "w的估计误差：tensor([-8.0109e-05, -4.3416e-04], grad_fn=<SubBackward0>)\n",
      "b的估计误差：tensor([-6.0081e-05], grad_fn=<RsubBackward1>)\n"
     ]
    }
   ],
   "source": [
    "print(f'w的估计误差：{true_w - w.reshape(true_w.shape)}')\n",
    "print(f'b的估计误差：{true_b - b}')"
   ]
  },
  {
   "cell_type": "code",
   "execution_count": 12,
   "id": "de05ce87",
   "metadata": {},
   "outputs": [],
   "source": [
    "import numpy as np\n",
    "from torch.utils import data\n",
    "import torch\n",
    "# from d2l import torch as d2l\n",
    "\n",
    "true_w = torch.tensor([2, -3.4])\n",
    "true_b = 4.2\n",
    "features, labels = synthetic_data(true_w, true_b, 1000)"
   ]
  },
  {
   "cell_type": "code",
   "execution_count": 19,
   "id": "fc2a3767",
   "metadata": {},
   "outputs": [
    {
     "data": {
      "text/plain": [
       "[tensor([[-0.7364, -0.0919],\n",
       "         [-0.1959, -0.6074],\n",
       "         [ 0.2787,  0.5294],\n",
       "         [ 0.8559,  0.4535],\n",
       "         [-0.2042,  1.6201],\n",
       "         [ 0.4883, -1.3968],\n",
       "         [ 0.1869, -0.8416],\n",
       "         [ 0.4939,  0.4296],\n",
       "         [-0.4608, -1.6862],\n",
       "         [ 1.0066,  1.0389]]),\n",
       " tensor([[ 3.0321],\n",
       "         [ 5.8816],\n",
       "         [ 2.9606],\n",
       "         [ 4.3645],\n",
       "         [-1.7183],\n",
       "         [ 9.9206],\n",
       "         [ 7.4383],\n",
       "         [ 3.7195],\n",
       "         [ 9.0081],\n",
       "         [ 2.6563]])]"
      ]
     },
     "execution_count": 19,
     "metadata": {},
     "output_type": "execute_result"
    }
   ],
   "source": [
    "#调用框架中现有的API来读取数据\n",
    "def load_array(data_arrays, batch_size, is_train=True):\n",
    "    # 构造一个PyTorch数据迭代器\n",
    "    dataset = data.TensorDataset(*data_arrays)\n",
    "    return data.DataLoader(dataset, batch_size, shuffle=is_train)\n",
    "\n",
    "batch_size = 10\n",
    "data_iter = load_array((features, labels), batch_size)\n",
    "next(iter(data_iter))"
   ]
  },
  {
   "cell_type": "code",
   "execution_count": 14,
   "id": "c7ddcec9",
   "metadata": {},
   "outputs": [],
   "source": [
    "# 使用框架的预定义好的层\n",
    "from torch import nn\n",
    "# Sequential container, list of layer\n",
    "net = nn.Sequential(nn.Linear(2, 1))"
   ]
  },
  {
   "cell_type": "code",
   "execution_count": 15,
   "id": "19b519fb",
   "metadata": {},
   "outputs": [
    {
     "data": {
      "text/plain": [
       "tensor([0.])"
      ]
     },
     "execution_count": 15,
     "metadata": {},
     "output_type": "execute_result"
    }
   ],
   "source": [
    "# 初始化模型参数\n",
    "net[0].weight.data.normal_(0, 0.01)\n",
    "net[0].bias.data.fill_(0)"
   ]
  },
  {
   "cell_type": "code",
   "execution_count": 16,
   "id": "a3b92061",
   "metadata": {},
   "outputs": [],
   "source": [
    "# 计算均方误差使用的是MSELoss类\n",
    "loss = nn.MSELoss()"
   ]
  },
  {
   "cell_type": "code",
   "execution_count": 17,
   "id": "f29612c1",
   "metadata": {},
   "outputs": [],
   "source": [
    "# 实例化SGD实例\n",
    "trainer = torch.optim.SGD(net.parameters(), lr=0.03)"
   ]
  },
  {
   "cell_type": "code",
   "execution_count": 21,
   "id": "1f3d5e25",
   "metadata": {},
   "outputs": [
    {
     "name": "stdout",
     "output_type": "stream",
     "text": [
      "epoch 1, loss 0.000105\n",
      "epoch 2, loss 0.000105\n",
      "epoch 3, loss 0.000106\n"
     ]
    }
   ],
   "source": [
    "num_epochs = 3\n",
    "for epoch in range(num_epochs):\n",
    "    for X, y in data_iter:\n",
    "        l = loss(net(X), y)\n",
    "        # 先把优化器的梯度清零\n",
    "        trainer.zero_grad()\n",
    "        # 计算梯度\n",
    "        l.backward()\n",
    "        # 更新模型\n",
    "        trainer.step()\n",
    "    l = loss(net(features), labels)\n",
    "    print(f'epoch {epoch+1}, loss {l:f}')"
   ]
  }
 ],
 "metadata": {
  "kernelspec": {
   "display_name": "Python 3 (ipykernel)",
   "language": "python",
   "name": "python3"
  },
  "language_info": {
   "codemirror_mode": {
    "name": "ipython",
    "version": 3
   },
   "file_extension": ".py",
   "mimetype": "text/x-python",
   "name": "python",
   "nbconvert_exporter": "python",
   "pygments_lexer": "ipython3",
   "version": "3.9.7"
  }
 },
 "nbformat": 4,
 "nbformat_minor": 5
}
